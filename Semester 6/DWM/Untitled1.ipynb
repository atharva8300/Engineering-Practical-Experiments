{
 "cells": [
  {
   "cell_type": "code",
   "execution_count": 4,
   "metadata": {},
   "outputs": [],
   "source": [
    "class Node:\n",
    "    def __init__(self, name):\n",
    "        self.name = name\n",
    "        self.children = []\n",
    "        self.parents = []\n",
    "        self.auth = 1.0\n",
    "        self.hub = 1.0\n",
    "def HITS_one_iter(graph):\n",
    "    node_list = graph.nodes\n",
    "\n",
    "    for node in node_list:\n",
    "        node.update_auth()\n",
    "    for node in node_list:\n",
    "        node.update_hub()\n",
    "\n",
    "    graph.normalize_auth_hub()\n",
    "def update_auth(self):\n",
    "    self.auth = sum(node.hub for node in self.parents)\n",
    "\n",
    "def update_hub(self):\n",
    "    self.hub = sum(node.auth for node in self.children)\n",
    "def normalize_auth_hub(self):\n",
    "    auth_sum = sum(node.auth for node in self.nodes)\n",
    "    hub_sum = sum(node.hub for node in self.nodes)\n",
    "\n",
    "    for node in self.nodes:\n",
    "        node.auth /= auth_sum\n",
    "        node.hub /= hub_sum"
   ]
  },
  {
   "cell_type": "code",
   "execution_count": null,
   "metadata": {},
   "outputs": [],
   "source": []
  }
 ],
 "metadata": {
  "kernelspec": {
   "display_name": "Python 3",
   "language": "python",
   "name": "python3"
  },
  "language_info": {
   "codemirror_mode": {
    "name": "ipython",
    "version": 3
   },
   "file_extension": ".py",
   "mimetype": "text/x-python",
   "name": "python",
   "nbconvert_exporter": "python",
   "pygments_lexer": "ipython3",
   "version": "3.8.5"
  }
 },
 "nbformat": 4,
 "nbformat_minor": 4
}
